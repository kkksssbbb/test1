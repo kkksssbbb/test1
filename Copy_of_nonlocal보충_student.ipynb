{
  "nbformat": 4,
  "nbformat_minor": 0,
  "metadata": {
    "colab": {
      "provenance": []
    },
    "kernelspec": {
      "name": "python3",
      "display_name": "Python 3"
    },
    "language_info": {
      "name": "python"
    }
  },
  "cells": [
    {
      "cell_type": "markdown",
      "source": [
        "# 1. 접근만"
      ],
      "metadata": {
        "id": "rvLNjn6h-YLc"
      }
    },
    {
      "cell_type": "code",
      "source": [
        "x = int(input('분자'))\n",
        "y = int(input('분모'))\n",
        "\n",
        "a = x//y\n",
        "b = x%y\n",
        "print('나눈 몫은 {}입니다. 나머지는 {}입니다.'.format(a,b))"
      ],
      "metadata": {
        "colab": {
          "base_uri": "https://localhost:8080/"
        },
        "id": "iKgMdz2W0Bgc",
        "outputId": "40f4f832-2dc9-484b-f8b6-662a69ed5cff"
      },
      "execution_count": null,
      "outputs": [
        {
          "output_type": "stream",
          "name": "stdout",
          "text": [
            "분자25\n",
            "분모10\n",
            "나눈 몫은 2입니다. 나머지는 5입니다.\n"
          ]
        }
      ]
    },
    {
      "cell_type": "code",
      "execution_count": null,
      "metadata": {
        "id": "WYLextGc81VS"
      },
      "outputs": [],
      "source": [
        "# 접근만 하는 것\n",
        "def work(g):\n",
        "  total_E=0\n",
        "  def force(x,y):\n",
        "    #nonlocal total_E\n",
        "    test = total_E + (x*y)\n",
        "    return test\n",
        "  return force"
      ]
    },
    {
      "cell_type": "code",
      "source": [
        "work10 = work(10)\n",
        "print(work10(2,3))"
      ],
      "metadata": {
        "id": "G7HODccb8_b6",
        "colab": {
          "base_uri": "https://localhost:8080/"
        },
        "outputId": "804b3076-cd5d-40ed-dac0-604524ea8692"
      },
      "execution_count": null,
      "outputs": [
        {
          "output_type": "stream",
          "name": "stdout",
          "text": [
            "6\n"
          ]
        }
      ]
    },
    {
      "cell_type": "markdown",
      "source": [
        "# 2. 값을 바꿀 때"
      ],
      "metadata": {
        "id": "vQHuUa23-aKV"
      }
    },
    {
      "cell_type": "code",
      "source": [
        "# 값을 바꿀 때\n",
        "def work(g):\n",
        "  total_E=0\n",
        "  def force(x,y):\n",
        "    #nonlocal total_E\n",
        "    total_E += (x*y)\n",
        "    return total_E\n",
        "  return force"
      ],
      "metadata": {
        "id": "F2hgfXQl9KBx"
      },
      "execution_count": null,
      "outputs": []
    },
    {
      "cell_type": "code",
      "source": [
        "work10 = work(10) # 에러가 왜 나나요?\n",
        "print(work10(2,3))"
      ],
      "metadata": {
        "id": "MfXJ19SC9zBE"
      },
      "execution_count": null,
      "outputs": []
    },
    {
      "cell_type": "markdown",
      "source": [
        "# 앞 함수에서 정의된 값을 바꾸려고 할 때 nonlocal : 뒤섞어서 쓴 팀이 있지만, 일단 감점 안했음."
      ],
      "metadata": {
        "id": "vz1dVupc91oZ"
      }
    },
    {
      "cell_type": "code",
      "source": [
        "# 값을 바꿀 때\n",
        "def work(g):\n",
        "  total_E=0\n",
        "  def force(x,y):\n",
        "    nonlocal total_E\n",
        "    total_E += (x*y)\n",
        "    return total_E\n",
        "  return force"
      ],
      "metadata": {
        "id": "KDB4b8UN986K"
      },
      "execution_count": null,
      "outputs": []
    },
    {
      "cell_type": "markdown",
      "source": [
        "## Q: 그럼 이건 왜 될까?"
      ],
      "metadata": {
        "id": "vWxI_jONApoR"
      }
    },
    {
      "cell_type": "code",
      "source": [
        "\n",
        "def test(A,B) :\n",
        "  Q = 0\n",
        "  def test_inner() :\n",
        "    Q = (A**2 + B**2 )**0.5\n",
        "    return Q\n",
        "  return test_inner\n",
        "\n",
        "temp_answer = test(10,10)\n",
        "temp_answer()"
      ],
      "metadata": {
        "id": "1CYYK4T8AryD",
        "colab": {
          "base_uri": "https://localhost:8080/"
        },
        "outputId": "e3bc5bf8-046c-40fd-e3c2-98d7529baa0e"
      },
      "execution_count": null,
      "outputs": [
        {
          "output_type": "execute_result",
          "data": {
            "text/plain": [
              "14.142135623730951"
            ]
          },
          "metadata": {},
          "execution_count": 5
        }
      ]
    }
  ]
}